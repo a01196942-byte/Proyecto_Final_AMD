{
 "cells": [
  {
   "cell_type": "markdown",
   "id": "8287dbc6",
   "metadata": {
    "id": "8287dbc6"
   },
   "source": [
    "#### Fase 4"
   ]
  },
  {
   "cell_type": "code",
   "execution_count": 1,
   "id": "cb74fc3d",
   "metadata": {
    "executionInfo": {
     "elapsed": 369,
     "status": "ok",
     "timestamp": 1754926784607,
     "user": {
      "displayName": "Rodrigo Montiel Gálvez",
      "userId": "15409948283604987032"
     },
     "user_tz": 360
    },
    "id": "cb74fc3d"
   },
   "outputs": [],
   "source": [
    "#LIBRERIAS PARA MANIPULACION DE TABLAS DE DATOS\n",
    "import pandas as pd\n",
    "import numpy as np\n",
    "import sqlite3\n",
    "import openpyxl"
   ]
  },
  {
   "cell_type": "code",
   "execution_count": 2,
   "id": "06739283",
   "metadata": {
    "colab": {
     "base_uri": "https://localhost:8080/",
     "height": 408
    },
    "executionInfo": {
     "elapsed": 287,
     "status": "error",
     "timestamp": 1754926784889,
     "user": {
      "displayName": "Rodrigo Montiel Gálvez",
      "userId": "15409948283604987032"
     },
     "user_tz": 360
    },
    "id": "06739283",
    "outputId": "7711285e-1d73-4ef3-c5c1-b9102725f776"
   },
   "outputs": [],
   "source": [
    "link = r\"C:\\Users\\rodmo\\Desktop\\MBD Maestría EGADE\\Gestión de Bases de Datos y Computación en la Nube\\Archivo Local Laptop Gestión de Bases de Datos y Computación en la Nube\\Twitter Scraping Results.xlsx\"\n",
    "publicacion = pd.read_excel(link, sheet_name=\"publicacion\")\n",
    "comentario = pd.read_excel(link, sheet_name=\"comentario\")\n",
    "red_social = pd.read_excel(link, sheet_name=\"red_social\")"
   ]
  },
  {
   "cell_type": "code",
   "execution_count": 3,
   "id": "22f7eddd",
   "metadata": {
    "executionInfo": {
     "elapsed": 5,
     "status": "aborted",
     "timestamp": 1754926784898,
     "user": {
      "displayName": "Rodrigo Montiel Gálvez",
      "userId": "15409948283604987032"
     },
     "user_tz": 360
    },
    "id": "22f7eddd"
   },
   "outputs": [
    {
     "name": "stdout",
     "output_type": "stream",
     "text": [
      "212\n",
      "211\n"
     ]
    }
   ],
   "source": [
    "print(len(publicacion))\n",
    "publicacion = publicacion.dropna(subset=['Fecha_publicacion'])\n",
    "print(len(publicacion))"
   ]
  },
  {
   "cell_type": "code",
   "execution_count": 4,
   "id": "cb9a4198",
   "metadata": {
    "executionInfo": {
     "elapsed": 790,
     "status": "aborted",
     "timestamp": 1754926784904,
     "user": {
      "displayName": "Rodrigo Montiel Gálvez",
      "userId": "15409948283604987032"
     },
     "user_tz": 360
    },
    "id": "cb9a4198"
   },
   "outputs": [
    {
     "name": "stdout",
     "output_type": "stream",
     "text": [
      "755\n",
      "753\n"
     ]
    }
   ],
   "source": [
    "print(len(comentario))\n",
    "comentario = comentario.dropna(subset=['Fecha_comentario'])\n",
    "print(len(comentario))"
   ]
  },
  {
   "cell_type": "code",
   "execution_count": 5,
   "id": "9893c2f3",
   "metadata": {
    "executionInfo": {
     "elapsed": 696,
     "status": "aborted",
     "timestamp": 1754926784905,
     "user": {
      "displayName": "Rodrigo Montiel Gálvez",
      "userId": "15409948283604987032"
     },
     "user_tz": 360
    },
    "id": "9893c2f3"
   },
   "outputs": [],
   "source": [
    "#publicacion['contenido_publicacion'] = publicacion['contenido_publicacion'].str.replace(' ', '')\n",
    "#comentario['contenido_comentario'] = comentario['contenido_comentario'].str.replace(' ', '')"
   ]
  },
  {
   "cell_type": "code",
   "execution_count": 6,
   "id": "ef06643c",
   "metadata": {
    "executionInfo": {
     "elapsed": 150,
     "status": "aborted",
     "timestamp": 1754926784907,
     "user": {
      "displayName": "Rodrigo Montiel Gálvez",
      "userId": "15409948283604987032"
     },
     "user_tz": 360
    },
    "id": "ef06643c"
   },
   "outputs": [
    {
     "data": {
      "text/html": [
       "<div>\n",
       "<style scoped>\n",
       "    .dataframe tbody tr th:only-of-type {\n",
       "        vertical-align: middle;\n",
       "    }\n",
       "\n",
       "    .dataframe tbody tr th {\n",
       "        vertical-align: top;\n",
       "    }\n",
       "\n",
       "    .dataframe thead th {\n",
       "        text-align: right;\n",
       "    }\n",
       "</style>\n",
       "<table border=\"1\" class=\"dataframe\">\n",
       "  <thead>\n",
       "    <tr style=\"text-align: right;\">\n",
       "      <th></th>\n",
       "      <th>ID_publicacion</th>\n",
       "      <th>ID_red_social</th>\n",
       "      <th>URL</th>\n",
       "      <th>contenido_publicacion</th>\n",
       "      <th>Fecha_publicacion</th>\n",
       "    </tr>\n",
       "  </thead>\n",
       "  <tbody>\n",
       "    <tr>\n",
       "      <th>0</th>\n",
       "      <td>P-01</td>\n",
       "      <td>1</td>\n",
       "      <td>https://x.com/FranFijap/status/187818521158376...</td>\n",
       "      <td>fran fijap@franfijap sheinbaum en el camino de...</td>\n",
       "      <td>Jan 11, 2025</td>\n",
       "    </tr>\n",
       "    <tr>\n",
       "      <th>1</th>\n",
       "      <td>P-02</td>\n",
       "      <td>1</td>\n",
       "      <td>https://x.com/AlmMiguelito/status/188207714325...</td>\n",
       "      <td>miguel almeida@almmiguelito@lorenzocordovav me...</td>\n",
       "      <td>Jan 22, 2025</td>\n",
       "    </tr>\n",
       "    <tr>\n",
       "      <th>2</th>\n",
       "      <td>P-03</td>\n",
       "      <td>1</td>\n",
       "      <td>https://x.com/revistaetcetera/status/192744946...</td>\n",
       "      <td>etcétera@revistaetceteraconfesado por ella mis...</td>\n",
       "      <td>May 27, 2025</td>\n",
       "    </tr>\n",
       "    <tr>\n",
       "      <th>3</th>\n",
       "      <td>P-04</td>\n",
       "      <td>1</td>\n",
       "      <td>https://x.com/SinLinea_Mx/status/1894447267626...</td>\n",
       "      <td>sinlínea.mx@sinlinea_mxcontundente  #sheinbaum...</td>\n",
       "      <td>Feb 25, 2025</td>\n",
       "    </tr>\n",
       "    <tr>\n",
       "      <th>4</th>\n",
       "      <td>P-05</td>\n",
       "      <td>1</td>\n",
       "      <td>https://x.com/AtypicalTeve/status/188069968129...</td>\n",
       "      <td>atypical te ve@atypicalteve sheinbaum en probl...</td>\n",
       "      <td>Jan 18, 2025</td>\n",
       "    </tr>\n",
       "  </tbody>\n",
       "</table>\n",
       "</div>"
      ],
      "text/plain": [
       "  ID_publicacion  ID_red_social  \\\n",
       "0           P-01              1   \n",
       "1           P-02              1   \n",
       "2           P-03              1   \n",
       "3           P-04              1   \n",
       "4           P-05              1   \n",
       "\n",
       "                                                 URL  \\\n",
       "0  https://x.com/FranFijap/status/187818521158376...   \n",
       "1  https://x.com/AlmMiguelito/status/188207714325...   \n",
       "2  https://x.com/revistaetcetera/status/192744946...   \n",
       "3  https://x.com/SinLinea_Mx/status/1894447267626...   \n",
       "4  https://x.com/AtypicalTeve/status/188069968129...   \n",
       "\n",
       "                               contenido_publicacion Fecha_publicacion  \n",
       "0  fran fijap@franfijap sheinbaum en el camino de...      Jan 11, 2025  \n",
       "1  miguel almeida@almmiguelito@lorenzocordovav me...      Jan 22, 2025  \n",
       "2  etcétera@revistaetceteraconfesado por ella mis...      May 27, 2025  \n",
       "3  sinlínea.mx@sinlinea_mxcontundente  #sheinbaum...      Feb 25, 2025  \n",
       "4  atypical te ve@atypicalteve sheinbaum en probl...      Jan 18, 2025  "
      ]
     },
     "execution_count": 6,
     "metadata": {},
     "output_type": "execute_result"
    }
   ],
   "source": [
    "publicacion.head()"
   ]
  },
  {
   "cell_type": "code",
   "execution_count": 7,
   "id": "ccd6fbd7",
   "metadata": {
    "colab": {
     "base_uri": "https://localhost:8080/",
     "height": 141
    },
    "executionInfo": {
     "elapsed": 19,
     "status": "error",
     "timestamp": 1754926785406,
     "user": {
      "displayName": "Rodrigo Montiel Gálvez",
      "userId": "15409948283604987032"
     },
     "user_tz": 360
    },
    "id": "ccd6fbd7",
    "outputId": "828daacd-b24d-42dc-c88a-2ae58726d98c"
   },
   "outputs": [
    {
     "data": {
      "text/html": [
       "<div>\n",
       "<style scoped>\n",
       "    .dataframe tbody tr th:only-of-type {\n",
       "        vertical-align: middle;\n",
       "    }\n",
       "\n",
       "    .dataframe tbody tr th {\n",
       "        vertical-align: top;\n",
       "    }\n",
       "\n",
       "    .dataframe thead th {\n",
       "        text-align: right;\n",
       "    }\n",
       "</style>\n",
       "<table border=\"1\" class=\"dataframe\">\n",
       "  <thead>\n",
       "    <tr style=\"text-align: right;\">\n",
       "      <th></th>\n",
       "      <th>ID_comentario</th>\n",
       "      <th>ID_publicacion</th>\n",
       "      <th>contenido_comentario</th>\n",
       "      <th>Fecha_comentario</th>\n",
       "      <th>URL</th>\n",
       "    </tr>\n",
       "  </thead>\n",
       "  <tbody>\n",
       "    <tr>\n",
       "      <th>0</th>\n",
       "      <td>Ch-01</td>\n",
       "      <td>P-01</td>\n",
       "      <td>thelibertarian@marcolouvierpor eso en estados ...</td>\n",
       "      <td>Jan 11, 2025</td>\n",
       "      <td>https://x.com/MarcoLouvier/status/187820216848...</td>\n",
       "    </tr>\n",
       "    <tr>\n",
       "      <th>1</th>\n",
       "      <td>Ch-02</td>\n",
       "      <td>P-01</td>\n",
       "      <td>praetor del león@praetorleonya los vas a tener...</td>\n",
       "      <td>Jan 11, 2025</td>\n",
       "      <td>https://x.com/PraetorLeon/status/1878186741036...</td>\n",
       "    </tr>\n",
       "    <tr>\n",
       "      <th>2</th>\n",
       "      <td>Ch-03</td>\n",
       "      <td>P-01</td>\n",
       "      <td>beto serna@senneville12es normal que los presi...</td>\n",
       "      <td>Jan 11, 2025</td>\n",
       "      <td>https://x.com/Senneville12/status/187818663764...</td>\n",
       "    </tr>\n",
       "    <tr>\n",
       "      <th>3</th>\n",
       "      <td>Ch-04</td>\n",
       "      <td>P-01</td>\n",
       "      <td>biondachoripanera@choribiondaes lo que votaron...</td>\n",
       "      <td>Jan 11, 2025</td>\n",
       "      <td>https://x.com/ChoriBionda/status/1878186624313...</td>\n",
       "    </tr>\n",
       "    <tr>\n",
       "      <th>4</th>\n",
       "      <td>Ch-05</td>\n",
       "      <td>P-02</td>\n",
       "      <td>paz con dialogo@pazcondialogoparody accountnad...</td>\n",
       "      <td>Jan 22, 2025</td>\n",
       "      <td>https://x.com/PazConDialogo/status/18820775142...</td>\n",
       "    </tr>\n",
       "  </tbody>\n",
       "</table>\n",
       "</div>"
      ],
      "text/plain": [
       "  ID_comentario ID_publicacion  \\\n",
       "0         Ch-01           P-01   \n",
       "1         Ch-02           P-01   \n",
       "2         Ch-03           P-01   \n",
       "3         Ch-04           P-01   \n",
       "4         Ch-05           P-02   \n",
       "\n",
       "                                contenido_comentario Fecha_comentario  \\\n",
       "0  thelibertarian@marcolouvierpor eso en estados ...     Jan 11, 2025   \n",
       "1  praetor del león@praetorleonya los vas a tener...     Jan 11, 2025   \n",
       "2  beto serna@senneville12es normal que los presi...     Jan 11, 2025   \n",
       "3  biondachoripanera@choribiondaes lo que votaron...     Jan 11, 2025   \n",
       "4  paz con dialogo@pazcondialogoparody accountnad...     Jan 22, 2025   \n",
       "\n",
       "                                                 URL  \n",
       "0  https://x.com/MarcoLouvier/status/187820216848...  \n",
       "1  https://x.com/PraetorLeon/status/1878186741036...  \n",
       "2  https://x.com/Senneville12/status/187818663764...  \n",
       "3  https://x.com/ChoriBionda/status/1878186624313...  \n",
       "4  https://x.com/PazConDialogo/status/18820775142...  "
      ]
     },
     "execution_count": 7,
     "metadata": {},
     "output_type": "execute_result"
    }
   ],
   "source": [
    "comentario.head()"
   ]
  },
  {
   "cell_type": "code",
   "execution_count": 8,
   "id": "740f93a9",
   "metadata": {
    "colab": {
     "base_uri": "https://localhost:8080/",
     "height": 141
    },
    "executionInfo": {
     "elapsed": 28,
     "status": "error",
     "timestamp": 1754926785877,
     "user": {
      "displayName": "Rodrigo Montiel Gálvez",
      "userId": "15409948283604987032"
     },
     "user_tz": 360
    },
    "id": "740f93a9",
    "outputId": "e3d95e73-288a-4ffe-e313-5c4502a63f67"
   },
   "outputs": [
    {
     "data": {
      "text/html": [
       "<div>\n",
       "<style scoped>\n",
       "    .dataframe tbody tr th:only-of-type {\n",
       "        vertical-align: middle;\n",
       "    }\n",
       "\n",
       "    .dataframe tbody tr th {\n",
       "        vertical-align: top;\n",
       "    }\n",
       "\n",
       "    .dataframe thead th {\n",
       "        text-align: right;\n",
       "    }\n",
       "</style>\n",
       "<table border=\"1\" class=\"dataframe\">\n",
       "  <thead>\n",
       "    <tr style=\"text-align: right;\">\n",
       "      <th></th>\n",
       "      <th>ID_red_social</th>\n",
       "      <th>Nombre</th>\n",
       "    </tr>\n",
       "  </thead>\n",
       "  <tbody>\n",
       "    <tr>\n",
       "      <th>0</th>\n",
       "      <td>1</td>\n",
       "      <td>Twitter</td>\n",
       "    </tr>\n",
       "    <tr>\n",
       "      <th>1</th>\n",
       "      <td>2</td>\n",
       "      <td>Facebook</td>\n",
       "    </tr>\n",
       "    <tr>\n",
       "      <th>2</th>\n",
       "      <td>3</td>\n",
       "      <td>Instagram</td>\n",
       "    </tr>\n",
       "    <tr>\n",
       "      <th>3</th>\n",
       "      <td>4</td>\n",
       "      <td>Otros medios</td>\n",
       "    </tr>\n",
       "  </tbody>\n",
       "</table>\n",
       "</div>"
      ],
      "text/plain": [
       "   ID_red_social        Nombre\n",
       "0              1       Twitter\n",
       "1              2      Facebook\n",
       "2              3     Instagram\n",
       "3              4  Otros medios"
      ]
     },
     "execution_count": 8,
     "metadata": {},
     "output_type": "execute_result"
    }
   ],
   "source": [
    "red_social.head()"
   ]
  },
  {
   "cell_type": "code",
   "execution_count": 9,
   "id": "203bf998",
   "metadata": {
    "id": "203bf998"
   },
   "outputs": [],
   "source": [
    "##################################################\n",
    "##################################################\n",
    "####################BRONZE LAYER##################\n",
    "##################################################\n",
    "##################################################"
   ]
  },
  {
   "cell_type": "code",
   "execution_count": 10,
   "id": "f6a21ce2",
   "metadata": {
    "id": "f6a21ce2"
   },
   "outputs": [],
   "source": [
    "#CONECTAR AL SISTEMA SQLITE Y CREAR LA BASE DE DATOS VENTAS\n",
    "conn = sqlite3.connect(\"Sentiment_Analysis.db\")\n",
    "cursor = conn.cursor()"
   ]
  },
  {
   "cell_type": "code",
   "execution_count": 11,
   "id": "729c55a0",
   "metadata": {
    "id": "729c55a0",
    "outputId": "1428ed72-48d4-4b81-af3b-3e61901a0112"
   },
   "outputs": [
    {
     "data": {
      "text/plain": [
       "211"
      ]
     },
     "execution_count": 11,
     "metadata": {},
     "output_type": "execute_result"
    }
   ],
   "source": [
    "#CREAR TABLA CLIENTES EN LA BASE DE DATOS\n",
    "cursor.execute(\"DROP TABLE IF EXISTS bronze_publicacion;\")\n",
    "cursor.execute(\"\"\"\n",
    "CREATE TABLE bronze_publicacion (\n",
    "    ID_publicacion TEXT PRIMARY KEY,\n",
    "    ID_red_social INTEGER,\n",
    "    URL TEXT,\n",
    "    contenido_publicacion TEXT,\n",
    "    Fecha_publicacion TEXT\n",
    ");\n",
    "\"\"\")\n",
    "\n",
    "publicacion.to_sql('bronze_publicacion', conn, if_exists='append', index=False)"
   ]
  },
  {
   "cell_type": "code",
   "execution_count": 12,
   "id": "c69692cb",
   "metadata": {
    "id": "c69692cb",
    "outputId": "f70ca323-9a59-4876-8e0c-859ad371cc97"
   },
   "outputs": [
    {
     "data": {
      "text/plain": [
       "753"
      ]
     },
     "execution_count": 12,
     "metadata": {},
     "output_type": "execute_result"
    }
   ],
   "source": [
    "#CREAR TABLA CLIENTES EN LA BASE DE DATOS\n",
    "cursor.execute(\"DROP TABLE IF EXISTS bronze_comentario;\")\n",
    "cursor.execute(\"\"\"\n",
    "CREATE TABLE bronze_comentario (\n",
    "    ID_comentario TEXT PRIMARY KEY,\n",
    "    ID_publicacion TEXT,\n",
    "    contenido_comentario TEXT,\n",
    "    Fecha_comentario TEXT,\n",
    "    URL TEXT\n",
    ");\n",
    "\"\"\")\n",
    "\n",
    "comentario.to_sql('bronze_comentario', conn, if_exists='append', index=False)"
   ]
  },
  {
   "cell_type": "code",
   "execution_count": 13,
   "id": "f14019c2",
   "metadata": {
    "id": "f14019c2",
    "outputId": "6ef2c8d9-4e2b-4645-c99a-f1fefcc97ae9"
   },
   "outputs": [
    {
     "data": {
      "text/plain": [
       "4"
      ]
     },
     "execution_count": 13,
     "metadata": {},
     "output_type": "execute_result"
    }
   ],
   "source": [
    "#CREAR TABLA CLIENTES EN LA BASE DE DATOS\n",
    "cursor.execute(\"DROP TABLE IF EXISTS bronze_red_social;\")\n",
    "cursor.execute(\"\"\"\n",
    "CREATE TABLE bronze_red_social (\n",
    "    ID_red_social TEXT PRIMARY KEY,\n",
    "    Nombre TEXT\n",
    ");\n",
    "\"\"\")\n",
    "\n",
    "red_social.to_sql('bronze_red_social', conn, if_exists='append', index=False)"
   ]
  },
  {
   "cell_type": "code",
   "execution_count": 14,
   "id": "820eef4d",
   "metadata": {
    "id": "820eef4d"
   },
   "outputs": [],
   "source": [
    "##################################################\n",
    "##################################################\n",
    "####################SILVER LAYER##################\n",
    "##################################################\n",
    "##################################################"
   ]
  },
  {
   "cell_type": "code",
   "execution_count": 15,
   "id": "23e0c0be",
   "metadata": {
    "id": "23e0c0be",
    "outputId": "e8e525e7-7b5c-4cfe-9a9b-c11031b384ce"
   },
   "outputs": [
    {
     "data": {
      "text/plain": [
       "<sqlite3.Cursor at 0x191609dd040>"
      ]
     },
     "execution_count": 15,
     "metadata": {},
     "output_type": "execute_result"
    }
   ],
   "source": [
    "#CREACION DE TABLA DE TRANSACCIONES CON INFROMACION DE CLIENTE Y PRODUCTOS\n",
    "cursor.execute(\"DROP TABLE IF EXISTS silver_publicacion;\")\n",
    "cursor.execute(\"\"\"\n",
    "CREATE TABLE silver_publicacion AS\n",
    "SELECT\n",
    "    p.ID_publicacion,\n",
    "    c.ID_comentario,\n",
    "    r.Nombre AS red_social_name,\n",
    "    p.Fecha_publicacion AS Fecha,\n",
    "    p.contenido_publicacion AS publicacion,\n",
    "    c.contenido_comentario AS comentario\n",
    "\n",
    "FROM bronze_publicacion p\n",
    "LEFT JOIN bronze_comentario c on c.ID_publicacion = p.ID_publicacion\n",
    "LEFT JOIN bronze_red_social r ON r.ID_red_social = p.ID_red_social;\n",
    "\"\"\")"
   ]
  },
  {
   "cell_type": "code",
   "execution_count": 16,
   "id": "a1e9dc84",
   "metadata": {
    "id": "a1e9dc84",
    "outputId": "1c509226-a298-45bd-e6f8-eed60e98fb1e"
   },
   "outputs": [
    {
     "data": {
      "text/html": [
       "<div>\n",
       "<style scoped>\n",
       "    .dataframe tbody tr th:only-of-type {\n",
       "        vertical-align: middle;\n",
       "    }\n",
       "\n",
       "    .dataframe tbody tr th {\n",
       "        vertical-align: top;\n",
       "    }\n",
       "\n",
       "    .dataframe thead th {\n",
       "        text-align: right;\n",
       "    }\n",
       "</style>\n",
       "<table border=\"1\" class=\"dataframe\">\n",
       "  <thead>\n",
       "    <tr style=\"text-align: right;\">\n",
       "      <th></th>\n",
       "      <th>ID_publicacion</th>\n",
       "      <th>ID_comentario</th>\n",
       "      <th>red_social_name</th>\n",
       "      <th>Fecha</th>\n",
       "      <th>publicacion</th>\n",
       "      <th>comentario</th>\n",
       "    </tr>\n",
       "  </thead>\n",
       "  <tbody>\n",
       "    <tr>\n",
       "      <th>0</th>\n",
       "      <td>P-01</td>\n",
       "      <td>Ch-01</td>\n",
       "      <td>Twitter</td>\n",
       "      <td>Jan 11, 2025</td>\n",
       "      <td>fran fijap@franfijap sheinbaum en el camino de...</td>\n",
       "      <td>thelibertarian@marcolouvierpor eso en estados ...</td>\n",
       "    </tr>\n",
       "    <tr>\n",
       "      <th>1</th>\n",
       "      <td>P-01</td>\n",
       "      <td>Ch-02</td>\n",
       "      <td>Twitter</td>\n",
       "      <td>Jan 11, 2025</td>\n",
       "      <td>fran fijap@franfijap sheinbaum en el camino de...</td>\n",
       "      <td>praetor del león@praetorleonya los vas a tener...</td>\n",
       "    </tr>\n",
       "  </tbody>\n",
       "</table>\n",
       "</div>"
      ],
      "text/plain": [
       "  ID_publicacion ID_comentario red_social_name         Fecha  \\\n",
       "0           P-01         Ch-01         Twitter  Jan 11, 2025   \n",
       "1           P-01         Ch-02         Twitter  Jan 11, 2025   \n",
       "\n",
       "                                         publicacion  \\\n",
       "0  fran fijap@franfijap sheinbaum en el camino de...   \n",
       "1  fran fijap@franfijap sheinbaum en el camino de...   \n",
       "\n",
       "                                          comentario  \n",
       "0  thelibertarian@marcolouvierpor eso en estados ...  \n",
       "1  praetor del león@praetorleonya los vas a tener...  "
      ]
     },
     "execution_count": 16,
     "metadata": {},
     "output_type": "execute_result"
    }
   ],
   "source": [
    "#VISUALIZAR UNA TABLA DADA\n",
    "visualize = pd.read_sql_query(\"SELECT * FROM silver_publicacion\", conn)\n",
    "visualize.head(2)"
   ]
  },
  {
   "cell_type": "code",
   "execution_count": 17,
   "id": "6444671e",
   "metadata": {
    "id": "6444671e"
   },
   "outputs": [],
   "source": [
    "##################################################\n",
    "##################################################\n",
    "####################GOLD LAYER##################\n",
    "##################################################\n",
    "##################################################"
   ]
  },
  {
   "cell_type": "code",
   "execution_count": 18,
   "id": "33c4c183",
   "metadata": {
    "id": "33c4c183",
    "outputId": "80f14dfd-275f-4e0d-ff3d-a3f5d26214ff"
   },
   "outputs": [
    {
     "data": {
      "text/plain": [
       "<sqlite3.Cursor at 0x191609dd040>"
      ]
     },
     "execution_count": 18,
     "metadata": {},
     "output_type": "execute_result"
    }
   ],
   "source": [
    "#CREACION DE TABLA ORO CON EL PROMEDIO DE TRANSACCIONES\n",
    "cursor.execute(\"DROP TABLE IF EXISTS gold_publicacion;\")\n",
    "cursor.execute(\"\"\"\n",
    "CREATE TABLE gold_publicacion AS\n",
    "SELECT\n",
    "    ID_publicacion,\n",
    "    GROUP_CONCAT(ID_comentario) AS ID_comentarios_list,\n",
    "    red_social_name,\n",
    "    Fecha,\n",
    "    publicacion,\n",
    "    CONCAT(comentario) AS comentarios,\n",
    "    COUNT(ID_comentario) AS total_comentarios\n",
    "\n",
    "\n",
    "FROM silver_publicacion\n",
    "GROUP BY ID_publicacion;\n",
    "\"\"\")"
   ]
  },
  {
   "cell_type": "code",
   "execution_count": 19,
   "id": "7cebee43",
   "metadata": {
    "id": "7cebee43",
    "outputId": "01e6bacd-bb50-449e-86e9-4afc98e063cd"
   },
   "outputs": [
    {
     "data": {
      "text/html": [
       "<div>\n",
       "<style scoped>\n",
       "    .dataframe tbody tr th:only-of-type {\n",
       "        vertical-align: middle;\n",
       "    }\n",
       "\n",
       "    .dataframe tbody tr th {\n",
       "        vertical-align: top;\n",
       "    }\n",
       "\n",
       "    .dataframe thead th {\n",
       "        text-align: right;\n",
       "    }\n",
       "</style>\n",
       "<table border=\"1\" class=\"dataframe\">\n",
       "  <thead>\n",
       "    <tr style=\"text-align: right;\">\n",
       "      <th></th>\n",
       "      <th>ID_publicacion</th>\n",
       "      <th>ID_comentarios_list</th>\n",
       "      <th>red_social_name</th>\n",
       "      <th>Fecha</th>\n",
       "      <th>publicacion</th>\n",
       "      <th>comentarios</th>\n",
       "      <th>total_comentarios</th>\n",
       "    </tr>\n",
       "  </thead>\n",
       "  <tbody>\n",
       "    <tr>\n",
       "      <th>0</th>\n",
       "      <td>P-01</td>\n",
       "      <td>Ch-01,Ch-02,Ch-03,Ch-04</td>\n",
       "      <td>Twitter</td>\n",
       "      <td>Jan 11, 2025</td>\n",
       "      <td>fran fijap@franfijap sheinbaum en el camino de...</td>\n",
       "      <td>thelibertarian@marcolouvierpor eso en estados ...</td>\n",
       "      <td>4</td>\n",
       "    </tr>\n",
       "    <tr>\n",
       "      <th>1</th>\n",
       "      <td>P-010</td>\n",
       "      <td>Ch-043,Ch-044,Ch-045,Ch-046</td>\n",
       "      <td>Twitter</td>\n",
       "      <td>Apr 29, 2025</td>\n",
       "      <td>viviana hinojosa@vivianolalaentre el cartón de...</td>\n",
       "      <td>schadenfreude milk@schadenfreudefuno puedes am...</td>\n",
       "      <td>4</td>\n",
       "    </tr>\n",
       "    <tr>\n",
       "      <th>2</th>\n",
       "      <td>P-0100</td>\n",
       "      <td>Ch-0374,Ch-0375,Ch-0376,Ch-0377</td>\n",
       "      <td>Twitter</td>\n",
       "      <td>Mar 17, 2025</td>\n",
       "      <td>jorge fernández menéndez@j_fdz_menendezla falt...</td>\n",
       "      <td>d'angelo 4t@angmariscal4tcon una pedante pasmo...</td>\n",
       "      <td>4</td>\n",
       "    </tr>\n",
       "    <tr>\n",
       "      <th>3</th>\n",
       "      <td>P-0101</td>\n",
       "      <td>Ch-0378,Ch-0379,Ch-0380,Ch-0381,Ch-0382</td>\n",
       "      <td>Twitter</td>\n",
       "      <td>Aug 29, 2024</td>\n",
       "      <td>periódico supremo@diario_supremo #últimahora |...</td>\n",
       "      <td>ᗰᖇ. ᑕíᐯiᑕo ®₿@mr_civicoel culiacanazo</td>\n",
       "      <td>5</td>\n",
       "    </tr>\n",
       "    <tr>\n",
       "      <th>4</th>\n",
       "      <td>P-0102</td>\n",
       "      <td>Ch-0383,Ch-0384,Ch-0385,Ch-0386</td>\n",
       "      <td>Twitter</td>\n",
       "      <td>Aug 26, 2024</td>\n",
       "      <td>general toribio ortega@tori_ort1.  sheinbaum s...</td>\n",
       "      <td>general toribio ortega@tori_ort2.   preocupada...</td>\n",
       "      <td>4</td>\n",
       "    </tr>\n",
       "  </tbody>\n",
       "</table>\n",
       "</div>"
      ],
      "text/plain": [
       "  ID_publicacion                      ID_comentarios_list red_social_name  \\\n",
       "0           P-01                  Ch-01,Ch-02,Ch-03,Ch-04         Twitter   \n",
       "1          P-010              Ch-043,Ch-044,Ch-045,Ch-046         Twitter   \n",
       "2         P-0100          Ch-0374,Ch-0375,Ch-0376,Ch-0377         Twitter   \n",
       "3         P-0101  Ch-0378,Ch-0379,Ch-0380,Ch-0381,Ch-0382         Twitter   \n",
       "4         P-0102          Ch-0383,Ch-0384,Ch-0385,Ch-0386         Twitter   \n",
       "\n",
       "          Fecha                                        publicacion  \\\n",
       "0  Jan 11, 2025  fran fijap@franfijap sheinbaum en el camino de...   \n",
       "1  Apr 29, 2025  viviana hinojosa@vivianolalaentre el cartón de...   \n",
       "2  Mar 17, 2025  jorge fernández menéndez@j_fdz_menendezla falt...   \n",
       "3  Aug 29, 2024  periódico supremo@diario_supremo #últimahora |...   \n",
       "4  Aug 26, 2024  general toribio ortega@tori_ort1.  sheinbaum s...   \n",
       "\n",
       "                                         comentarios  total_comentarios  \n",
       "0  thelibertarian@marcolouvierpor eso en estados ...                  4  \n",
       "1  schadenfreude milk@schadenfreudefuno puedes am...                  4  \n",
       "2  d'angelo 4t@angmariscal4tcon una pedante pasmo...                  4  \n",
       "3             ᗰᖇ. ᑕíᐯiᑕo ®₿@mr_civicoel culiacanazo                   5  \n",
       "4  general toribio ortega@tori_ort2.   preocupada...                  4  "
      ]
     },
     "execution_count": 19,
     "metadata": {},
     "output_type": "execute_result"
    }
   ],
   "source": [
    "visualize2 = pd.read_sql_query(\"SELECT * FROM gold_publicacion\", conn)\n",
    "visualize2.head(5)"
   ]
  },
  {
   "cell_type": "code",
   "execution_count": 21,
   "id": "b0b48ceb",
   "metadata": {
    "id": "b0b48ceb"
   },
   "outputs": [],
   "source": [
    "excel_file = link.replace(\"Twitter Scraping Results.xlsx\", \"Twitter_Scraping_Gold_DB_v2.xlsx\")\n",
    "visualize2.to_excel(excel_file)"
   ]
  },
  {
   "cell_type": "code",
   "execution_count": null,
   "id": "782a6bc6",
   "metadata": {
    "id": "782a6bc6"
   },
   "outputs": [],
   "source": []
  }
 ],
 "metadata": {
  "colab": {
   "provenance": []
  },
  "kernelspec": {
   "display_name": "Python 3",
   "language": "python",
   "name": "python3"
  },
  "language_info": {
   "codemirror_mode": {
    "name": "ipython",
    "version": 3
   },
   "file_extension": ".py",
   "mimetype": "text/x-python",
   "name": "python",
   "nbconvert_exporter": "python",
   "pygments_lexer": "ipython3",
   "version": "3.13.6"
  }
 },
 "nbformat": 4,
 "nbformat_minor": 5
}
